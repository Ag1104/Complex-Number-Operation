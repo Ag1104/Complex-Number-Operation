{
 "cells": [
  {
   "cell_type": "markdown",
   "id": "9b8dfb9b",
   "metadata": {},
   "source": [
    "# ADDITION OF COMPLEX NUMBER"
   ]
  },
  {
   "cell_type": "code",
   "execution_count": 54,
   "id": "207b5848",
   "metadata": {},
   "outputs": [
    {
     "name": "stdout",
     "output_type": "stream",
     "text": [
      "Enter first digit: 2+5j\n",
      "Enter second digit: 3-6j\n",
      "\n",
      "The addition: (5-1j)\n",
      "Real=5.0\n",
      "Imaginary Number=-1.0\n"
     ]
    }
   ],
   "source": [
    "first_number = complex(input(\"Enter first digit: \"))\n",
    "second_number = complex(input(\"Enter second digit: \"))\n",
    "addition = first_number+second_number\n",
    "real = addition.real\n",
    "imaginary = addition.imag\n",
    "print(f\"\\nThe addition: {addition}\\nReal={real}\\nImaginary Number={imaginary}\")"
   ]
  },
  {
   "cell_type": "markdown",
   "id": "2b3c4088",
   "metadata": {},
   "source": [
    "# SUBTRACTION OF COMPLEX NUMBER"
   ]
  },
  {
   "cell_type": "code",
   "execution_count": 55,
   "id": "1ed3bb2f",
   "metadata": {},
   "outputs": [
    {
     "name": "stdout",
     "output_type": "stream",
     "text": [
      "Enter first digit: 3+4j\n",
      "Enter second digit: 7j\n",
      "\n",
      "The substraction: (3-3j)\n",
      "Real=3.0\n",
      "Imaginary Number=-3.0\n"
     ]
    }
   ],
   "source": [
    "first_number = complex(input(\"Enter first digit: \"))\n",
    "second_number = complex(input(\"Enter second digit: \"))\n",
    "substraction = first_number-second_number\n",
    "real = substraction.real\n",
    "imaginary = substraction.imag\n",
    "print(f\"\\nThe substraction: {substraction}\\nReal={real}\\nImaginary Number={imaginary}\")"
   ]
  },
  {
   "cell_type": "markdown",
   "id": "ed27e098",
   "metadata": {},
   "source": [
    "# MULTIPLICATION OF COMPLEX NUMBER"
   ]
  },
  {
   "cell_type": "code",
   "execution_count": 58,
   "id": "f595999a",
   "metadata": {},
   "outputs": [
    {
     "name": "stdout",
     "output_type": "stream",
     "text": [
      "Enter first digit: 2+j\n",
      "Enter second digit: 2-4j\n",
      "\n",
      "The multiplication: (8-6j)\n",
      "Real=8.0\n",
      "Imaginary Number=-6.0\n"
     ]
    }
   ],
   "source": [
    "first_number = complex(input(\"Enter first digit: \"))\n",
    "second_number = complex(input(\"Enter second digit: \"))\n",
    "multiplication = first_number*second_number\n",
    "real = multiplication.real\n",
    "imaginary = multiplication.imag\n",
    "print(f\"\\nThe multiplication: {multiplication}\\nReal={real}\\nImaginary Number={imaginary}\")"
   ]
  },
  {
   "cell_type": "markdown",
   "id": "84578254",
   "metadata": {},
   "source": [
    "# DIVISION OF COMPLEX NUMBER"
   ]
  },
  {
   "cell_type": "code",
   "execution_count": 59,
   "id": "9307448a",
   "metadata": {},
   "outputs": [
    {
     "name": "stdout",
     "output_type": "stream",
     "text": [
      "Enter first digit: 2+j\n",
      "Enter second digit: j\n",
      "\n",
      "The division: (1-2j)\n",
      "Real=1.0\n",
      "Imaginary Number=-2.0\n"
     ]
    }
   ],
   "source": [
    "first_number = complex(input(\"Enter first digit: \"))\n",
    "second_number = complex(input(\"Enter second digit: \"))\n",
    "division = first_number/second_number\n",
    "real = round(division.real, 2)\n",
    "imaginary = round(division.imag, 2)\n",
    "print(f\"\\nThe division: {division}\\nReal={real}\\nImaginary Number={imaginary}\")"
   ]
  },
  {
   "cell_type": "code",
   "execution_count": null,
   "id": "a3e06094",
   "metadata": {},
   "outputs": [],
   "source": []
  }
 ],
 "metadata": {
  "kernelspec": {
   "display_name": "Python 3 (ipykernel)",
   "language": "python",
   "name": "python3"
  },
  "language_info": {
   "codemirror_mode": {
    "name": "ipython",
    "version": 3
   },
   "file_extension": ".py",
   "mimetype": "text/x-python",
   "name": "python",
   "nbconvert_exporter": "python",
   "pygments_lexer": "ipython3",
   "version": "3.11.5"
  }
 },
 "nbformat": 4,
 "nbformat_minor": 5
}
